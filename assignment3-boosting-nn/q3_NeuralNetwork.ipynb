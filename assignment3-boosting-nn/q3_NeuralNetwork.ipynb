{
 "cells": [
  {
   "cell_type": "markdown",
   "id": "06302f45",
   "metadata": {},
   "source": [
    "# Neural Network"
   ]
  },
  {
   "cell_type": "code",
   "execution_count": null,
   "id": "e89cc08c",
   "metadata": {},
   "outputs": [],
   "source": [
    "import numpy as np"
   ]
  },
  {
   "cell_type": "markdown",
   "id": "4ee82deb",
   "metadata": {},
   "source": [
    "Sigmoid activation and its derivative"
   ]
  },
  {
   "cell_type": "code",
   "execution_count": 2,
   "id": "f877f185",
   "metadata": {},
   "outputs": [],
   "source": [
    "def sigmoid(z):\n",
    "    return 1 / (1 + np.exp(-z))\n",
    "\n",
    "def sigmoid_derivative(z):\n",
    "    s = sigmoid(z)\n",
    "    return s * (1 - s)"
   ]
  },
  {
   "cell_type": "markdown",
   "id": "afe29f84",
   "metadata": {},
   "source": [
    "Generate synthetic data (2 x 10 for each class)"
   ]
  },
  {
   "cell_type": "code",
   "execution_count": 3,
   "id": "aec91f11",
   "metadata": {},
   "outputs": [],
   "source": [
    "np.random.seed(2023116)\n",
    "n_samples = 10\n",
    "\n",
    "# Class 0: mean = [-1, -1], covariance = identity\n",
    "X0 = np.random.multivariate_normal(mean=[-1, -1], cov=np.eye(2), size=n_samples).T  # shape (2, 10)\n",
    "y0 = np.zeros((1, n_samples))  # shape (1, 10)\n",
    "\n",
    "# Class 1: mean = [1, 1], covariance = identity\n",
    "X1 = np.random.multivariate_normal(mean=[1, 1], cov=np.eye(2), size=n_samples).T  # shape (2, 10)\n",
    "y1 = np.ones((1, n_samples))  # shape (1, 10)\n",
    "\n",
    "# Combine data: (2, 20) and labels (1, 20)\n",
    "X = np.hstack((X0, X1))  # shape (2, 20)\n",
    "y = np.hstack((y0, y1))  # shape (1, 20)\n",
    "\n",
    "# Shuffle columns (samples)\n",
    "perm = np.random.permutation(X.shape[1])\n",
    "X = X[:, perm]\n",
    "y = y[:, perm]\n",
    "\n",
    "# Train-test split (50-50)\n",
    "X_train, X_test = X[:, :10], X[:, 10:]\n",
    "y_train, y_test = y[:, :10], y[:, 10:]"
   ]
  },
  {
   "cell_type": "markdown",
   "id": "433872ff",
   "metadata": {},
   "source": [
    "Network parameters"
   ]
  },
  {
   "cell_type": "code",
   "execution_count": 4,
   "id": "430058ae",
   "metadata": {},
   "outputs": [],
   "source": [
    "input_dim = 2\n",
    "hidden_dim = 1\n",
    "output_dim = 1\n",
    "lr = 0.1\n",
    "rounds = 1000"
   ]
  },
  {
   "cell_type": "markdown",
   "id": "3576499b",
   "metadata": {},
   "source": [
    "Initialize weights and biases"
   ]
  },
  {
   "cell_type": "code",
   "execution_count": 5,
   "id": "0a5352a2",
   "metadata": {},
   "outputs": [],
   "source": [
    "W1 = np.random.randn(hidden_dim, input_dim)  # shape (1, 2)\n",
    "b1 = np.random.randn(hidden_dim, 1)          # shape (1, 1)\n",
    "W2 = np.random.randn(output_dim, hidden_dim) # shape (1, 1)\n",
    "b2 = np.random.randn(output_dim, 1)          # shape (1, 1)"
   ]
  },
  {
   "cell_type": "markdown",
   "id": "a9e29ba0",
   "metadata": {},
   "source": [
    "Train"
   ]
  },
  {
   "cell_type": "code",
   "execution_count": 6,
   "id": "68f2afb2",
   "metadata": {},
   "outputs": [],
   "source": [
    "for round in range(rounds):\n",
    "    # Forward pass\n",
    "    Z1 = W1 @ X_train + b1          # shape (1, 10)     (beta1 x + beta0)\n",
    "    A1 = sigmoid(Z1)                # shape (1, 10)\n",
    "    Z2 = W2 @ A1 + b2               # shape (1, 10)\n",
    "    Y_pred = Z2                     # linear output\n",
    "\n",
    "    # Compute MSE\n",
    "    loss = np.mean((y_train - Y_pred) ** 2)\n",
    "\n",
    "    # gradient descent\n",
    "    dZ2 = 2 * (Y_pred - y_train) / y_train.shape[1]  # shape (1, 10)\n",
    "    dW2 = dZ2 @ A1.T                                 # (1, 10) x (10, 1) = (1, 1)\n",
    "    db2 = np.sum(dZ2, axis=1, keepdims=True)         # (1, 1)\n",
    "\n",
    "    dA1 = W2.T @ dZ2                                 # (1, 1) x (1, 10) = (1, 10)\n",
    "    dZ1 = dA1 * sigmoid_derivative(Z1)               # (1, 10)\n",
    "    dW1 = dZ1 @ X_train.T                            # (1, 10) x (10, 2) = (1, 2)\n",
    "    db1 = np.sum(dZ1, axis=1, keepdims=True)         # (1, 1)\n",
    "\n",
    "    # Update weights\n",
    "    W2 -= lr * dW2\n",
    "    b2 -= lr * db2\n",
    "    W1 -= lr * dW1\n",
    "    b1 -= lr * db1"
   ]
  },
  {
   "cell_type": "markdown",
   "id": "02632c77",
   "metadata": {},
   "source": [
    "Predict on test set"
   ]
  },
  {
   "cell_type": "code",
   "execution_count": 7,
   "id": "548510fd",
   "metadata": {},
   "outputs": [],
   "source": [
    "Z1_test = W1 @ X_test + b1\n",
    "A1_test = sigmoid(Z1_test)\n",
    "Z2_test = W2 @ A1_test + b2\n",
    "Y_test_pred = Z2_test"
   ]
  },
  {
   "cell_type": "markdown",
   "id": "336afe5f",
   "metadata": {},
   "source": [
    "Test Set MSE "
   ]
  },
  {
   "cell_type": "code",
   "execution_count": 8,
   "id": "5fdf5c8e",
   "metadata": {},
   "outputs": [
    {
     "name": "stdout",
     "output_type": "stream",
     "text": [
      "Test MSE: 0.040056105526206275\n"
     ]
    }
   ],
   "source": [
    "mse_test = np.mean((y_test - Y_test_pred) ** 2)\n",
    "print(\"Test MSE:\", mse_test)"
   ]
  }
 ],
 "metadata": {
  "kernelspec": {
   "display_name": "Python 3",
   "language": "python",
   "name": "python3"
  },
  "language_info": {
   "codemirror_mode": {
    "name": "ipython",
    "version": 3
   },
   "file_extension": ".py",
   "mimetype": "text/x-python",
   "name": "python",
   "nbconvert_exporter": "python",
   "pygments_lexer": "ipython3",
   "version": "3.12.3"
  }
 },
 "nbformat": 4,
 "nbformat_minor": 5
}
